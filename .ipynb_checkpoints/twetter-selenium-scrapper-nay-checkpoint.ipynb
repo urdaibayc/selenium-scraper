{
 "cells": [
  {
   "cell_type": "code",
   "execution_count": 77,
   "metadata": {},
   "outputs": [],
   "source": [
    "import pandas as pd"
   ]
  },
  {
   "cell_type": "code",
   "execution_count": 1,
   "metadata": {},
   "outputs": [],
   "source": [
    "from selenium import webdriver\n",
    "from selenium.webdriver.common.keys import Keys"
   ]
  },
  {
   "cell_type": "markdown",
   "metadata": {},
   "source": [
    "Setup the login page"
   ]
  },
  {
   "cell_type": "code",
   "execution_count": 30,
   "metadata": {},
   "outputs": [],
   "source": [
    "url = 'https://twitter.com/home'"
   ]
  },
  {
   "cell_type": "markdown",
   "metadata": {},
   "source": [
    "Setup username and password for login"
   ]
  },
  {
   "cell_type": "code",
   "execution_count": 31,
   "metadata": {},
   "outputs": [],
   "source": [
    "usr = \"\"\n",
    "pwd = \"\""
   ]
  },
  {
   "cell_type": "code",
   "execution_count": 33,
   "metadata": {},
   "outputs": [],
   "source": [
    "browser = webdriver.Chrome()\n",
    "browser.get(url)\n",
    "# wait until loaded"
   ]
  },
  {
   "cell_type": "code",
   "execution_count": 34,
   "metadata": {},
   "outputs": [],
   "source": [
    "assert \"Iniciar\" in browser.title"
   ]
  },
  {
   "cell_type": "code",
   "execution_count": 35,
   "metadata": {},
   "outputs": [],
   "source": [
    "username = browser.find_element_by_xpath(\"/html/body/div/div/div/div[2]/main/div/div/div[1]/form/div/div[1]/label/div/div[2]/div/input\")\n",
    "password = browser.find_element_by_xpath(\"/html/body/div/div/div/div[2]/main/div/div/div[1]/form/div/div[2]/label/div/div[2]/div/input\")\n",
    "username.send_keys(usr)\n",
    "password.send_keys(pwd)"
   ]
  },
  {
   "cell_type": "code",
   "execution_count": 36,
   "metadata": {},
   "outputs": [],
   "source": [
    "\n",
    "password.send_keys(Keys.RETURN)"
   ]
  },
  {
   "cell_type": "code",
   "execution_count": 38,
   "metadata": {},
   "outputs": [],
   "source": [
    "assert \"Inicio\" in browser.title"
   ]
  },
  {
   "cell_type": "code",
   "execution_count": 39,
   "metadata": {},
   "outputs": [],
   "source": [
    "url = '//article'\n",
    "elements = browser.find_elements_by_xpath(url)"
   ]
  },
  {
   "cell_type": "code",
   "execution_count": 40,
   "metadata": {},
   "outputs": [
    {
     "data": {
      "text/plain": [
       "6"
      ]
     },
     "execution_count": 40,
     "metadata": {},
     "output_type": "execute_result"
    }
   ],
   "source": [
    "len(elements)"
   ]
  },
  {
   "cell_type": "code",
   "execution_count": 41,
   "metadata": {},
   "outputs": [],
   "source": [
    "tweets = [e.text for e in elements]"
   ]
  },
  {
   "cell_type": "code",
   "execution_count": 42,
   "metadata": {},
   "outputs": [
    {
     "data": {
      "text/plain": [
       "[9, 8, 6, 14, 8, 13]"
      ]
     },
     "execution_count": 42,
     "metadata": {},
     "output_type": "execute_result"
    }
   ],
   "source": [
    "lista=[len(tweet.split('\\n')) for tweet in tweets]\n",
    "lista"
   ]
  },
  {
   "cell_type": "code",
   "execution_count": 43,
   "metadata": {},
   "outputs": [
    {
     "data": {
      "text/plain": [
       "['Braulio Badillo indicó que le gusta',\n",
       " 'Grumpy Gabb.',\n",
       " '@Gabixuela',\n",
       " '·',\n",
       " '6h',\n",
       " 'No necesito aprender a maquillarme, sólo ponerme stickers de Pókemon en la cara.',\n",
       " '1',\n",
       " '2',\n",
       " '23']"
      ]
     },
     "execution_count": 43,
     "metadata": {},
     "output_type": "execute_result"
    }
   ],
   "source": [
    "tweets[0].split('\\n')"
   ]
  },
  {
   "cell_type": "code",
   "execution_count": 48,
   "metadata": {},
   "outputs": [],
   "source": [
    "cols = ['fecha', 'autor', 'contenido']\n",
    "like =[]\n",
    "rt =  []\n",
    "tweet = []\n",
    "\n",
    "for twit in tweets:\n",
    "    atributos = twit.split('\\n')\n",
    "    if 'retwitteó' in atributos[0]:\n",
    "        rt.append(twit)\n",
    "    elif 'indicó' in atributos[0]:\n",
    "        like.append(twit)\n",
    "    elif 'Promocionado' in atributos[-1]:\n",
    "        cols=cols\n",
    "    else:\n",
    "        tweet.append(twit)"
   ]
  },
  {
   "cell_type": "code",
   "execution_count": 95,
   "metadata": {},
   "outputs": [
    {
     "name": "stdout",
     "output_type": "stream",
     "text": [
      "['6h', '5h']\n",
      "['@Gabixuela', '@MarianaSeLo']\n",
      "['No necesito aprender a maquillarme, sólo ponerme stickers de Pókemon en la cara.', 'Soy este wey el día de hoy me pasó algo similar']\n"
     ]
    },
    {
     "data": {
      "text/html": [
       "<div>\n",
       "<style scoped>\n",
       "    .dataframe tbody tr th:only-of-type {\n",
       "        vertical-align: middle;\n",
       "    }\n",
       "\n",
       "    .dataframe tbody tr th {\n",
       "        vertical-align: top;\n",
       "    }\n",
       "\n",
       "    .dataframe thead th {\n",
       "        text-align: right;\n",
       "    }\n",
       "</style>\n",
       "<table border=\"1\" class=\"dataframe\">\n",
       "  <thead>\n",
       "    <tr style=\"text-align: right;\">\n",
       "      <th></th>\n",
       "      <th>Fecha</th>\n",
       "      <th>Autor</th>\n",
       "      <th>Contenido</th>\n",
       "    </tr>\n",
       "  </thead>\n",
       "  <tbody>\n",
       "    <tr>\n",
       "      <th>0</th>\n",
       "      <td>6h</td>\n",
       "      <td>@Gabixuela</td>\n",
       "      <td>No necesito aprender a maquillarme, sólo poner...</td>\n",
       "    </tr>\n",
       "    <tr>\n",
       "      <th>1</th>\n",
       "      <td>5h</td>\n",
       "      <td>@MarianaSeLo</td>\n",
       "      <td>Soy este wey el día de hoy me pasó algo similar</td>\n",
       "    </tr>\n",
       "  </tbody>\n",
       "</table>\n",
       "</div>"
      ],
      "text/plain": [
       "  Fecha         Autor                                          Contenido\n",
       "0    6h    @Gabixuela  No necesito aprender a maquillarme, sólo poner...\n",
       "1    5h  @MarianaSeLo    Soy este wey el día de hoy me pasó algo similar"
      ]
     },
     "execution_count": 95,
     "metadata": {},
     "output_type": "execute_result"
    }
   ],
   "source": [
    "fechas=[]\n",
    "autor=[]\n",
    "contenido=[]\n",
    "\n",
    "for l in like:\n",
    "        fechas.append(l.split('\\n')[4])\n",
    "        autor.append(l.split('\\n')[2])\n",
    "        contenido.append(l.split('\\n')[5])\n",
    "        \n",
    "# print(fechas)\n",
    "# print(autor)\n",
    "# print(contenido)\n",
    "\n",
    "df_like=pd.DataFrame([fechas,autor,contenido]).transpose()\n",
    "df_like.columns=['Fecha','Autor','Contenido']\n",
    "df_like"
   ]
  },
  {
   "cell_type": "code",
   "execution_count": null,
   "metadata": {},
   "outputs": [],
   "source": []
  },
  {
   "cell_type": "code",
   "execution_count": 76,
   "metadata": {},
   "outputs": [],
   "source": [
    "browser.quit()"
   ]
  },
  {
   "cell_type": "code",
   "execution_count": 19,
   "metadata": {},
   "outputs": [
    {
     "name": "stdout",
     "output_type": "stream",
     "text": [
      "['19h', '18h', '15 nov.', '20h', '@Jiots', '·'] \n",
      "\n",
      "['@ana_pao97', '@GatitoFeliz_', '@Fedeslzr', '@AlanTresPelos', '@JohnnieWalkerMx', 'community reaction videos'] \n",
      "\n",
      "['Bueno pues si no me contesta lo intenté ', 'Mis tenis Balenciaga, me reciben en la entrada ;) ', 'la culpa es mía por qué nunca me voy', 'Siento que los compañeros de Harry Potter cada año pensaban que él era el uno más que tú de la generación.', ' te dejó con la duda de lo que estaba pasando. ¡El día de resolverlo es hoy! ', '8h'] \n",
      "\n"
     ]
    }
   ],
   "source": [
    "cols = ['fecha', 'autor', 'contenido']\n",
    "tuplaTweets =[]\n",
    "fechas =  []\n",
    "autor = []\n",
    "contenido = []\n",
    "\n",
    "for tweet in tweets:\n",
    "    atributos = tweet.split('\\n')\n",
    "    if 'retwitteó' in atributos[0]:\n",
    "        autor.append(atributos[2])\n",
    "        fechas.append(atributos[4])\n",
    "        contenido.append(atributos[5])\n",
    "    else:\n",
    "        fechas.append(atributos[3])\n",
    "        autor.append(atributos[1])\n",
    "        contenido.append(atributos[4])\n",
    "        \n",
    "print(fechas, '\\n')\n",
    "print(autor, '\\n')\n",
    "print(contenido, '\\n')\n"
   ]
  }
 ],
 "metadata": {
  "kernelspec": {
   "display_name": "Python 3",
   "language": "python",
   "name": "python3"
  },
  "language_info": {
   "codemirror_mode": {
    "name": "ipython",
    "version": 3
   },
   "file_extension": ".py",
   "mimetype": "text/x-python",
   "name": "python",
   "nbconvert_exporter": "python",
   "pygments_lexer": "ipython3",
   "version": "3.8.3"
  }
 },
 "nbformat": 4,
 "nbformat_minor": 4
}
